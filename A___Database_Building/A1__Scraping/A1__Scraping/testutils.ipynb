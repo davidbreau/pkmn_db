{
 "cells": [
  {
   "cell_type": "code",
   "execution_count": 20,
   "metadata": {},
   "outputs": [],
   "source": [
    "import inflect"
   ]
  },
  {
   "cell_type": "code",
   "execution_count": 8,
   "metadata": {},
   "outputs": [],
   "source": [
    "test_response = ['Pokémon', 'type', 'Plante', 'Poison', 'première génération', 'Pokémon de départ', 'région', 'Kanto', 'bulbe', 'capacité', 'Vampigraine', 'Fouet Lianes', 'niveau', 'Herbizarre', 'Florizarre', 'sixième génération', 'méga-évoluer', 'Méga-Florizarre', 'Florizarrite', 'distribué de manière événementielle', 'Sacha', 'Samouraï', 'dessin animé', 'épisode 10', 'épisode 838', 'Arc Rouge, Bleu et Vert', 'chapitre 2', 'Tome 1', 'Rouge', 'chapitre 3', 'chapitre 4', 'chapitre 5', 'chapitre 6', 'chapitre 8', 'chapitre 9', 'chapitre 12', 'chapitre 13', 'Bleu', 'chapitre 15', 'Groundbreakers']"
   ]
  },
  {
   "cell_type": "code",
   "execution_count": 27,
   "metadata": {},
   "outputs": [],
   "source": [
    "def extract_numerical_generation(lst: list) -> int:\n",
    "    \"\"\"_summary_\n",
    "    Retourne l'entier correspondant à la cardinalité de la génération depuis une liste scrapée\n",
    "    Args:\n",
    "        lst (list): les éléments scrapés stockés dans une liste\n",
    "    Returns:\n",
    "        int: Le chiffre entre 1 et 10\n",
    "    \"\"\"\n",
    "    ordinaux_fr_to_num = {\n",
    "        'première': 1,\n",
    "        'deuxième': 2,\n",
    "        'troisième': 3,\n",
    "        'quatrième': 4,\n",
    "        'cinquième': 5,\n",
    "        'sixième': 6,\n",
    "        'septième': 7,\n",
    "        'huitième': 8,\n",
    "        'neuvième': 9,\n",
    "        'dixième': 10,\n",
    "    }\n",
    "    for elt in lst:\n",
    "        if 'génération' in elt:  #1- Trouve l'élément de la liste contenant 'génération'\n",
    "            try:\n",
    "                generation_number = ordinaux_fr_to_num[elt.split()[0]] #2- Extrait le mot ordinal et le transforme en chiffre grâce au dictionnaire\n",
    "                return generation_number\n",
    "            except KeyError:\n",
    "                return None \n",
    "    return None "
   ]
  },
  {
   "cell_type": "code",
   "execution_count": 29,
   "metadata": {},
   "outputs": [
    {
     "data": {
      "text/plain": [
       "int"
      ]
     },
     "execution_count": 29,
     "metadata": {},
     "output_type": "execute_result"
    }
   ],
   "source": [
    "type(extract_numerical_generation(test_response))\n"
   ]
  },
  {
   "cell_type": "code",
   "execution_count": 26,
   "metadata": {},
   "outputs": [
    {
     "name": "stdout",
     "output_type": "stream",
     "text": [
      "None\n",
      "None\n",
      "None\n",
      "None\n"
     ]
    }
   ],
   "source": [
    "def convert_to_number(word):\n",
    "    p = inflect.engine()\n",
    "    try:\n",
    "        num = p.number_to_words(word, andword='')\n",
    "        return int(num) if num.isdigit() else None\n",
    "    except ValueError:\n",
    "        return None\n",
    "\n",
    "# Exemples d'utilisation :\n",
    "print(convert_to_number('first'))  # Output: 1\n",
    "print(convert_to_number('deuxième'))  # Output: 2\n",
    "print(convert_to_number('troisième'))  # Output: 3\n",
    "print(convert_to_number('quatrième'))  # Output: 4"
   ]
  }
 ],
 "metadata": {
  "kernelspec": {
   "display_name": "pkmndb",
   "language": "python",
   "name": "python3"
  },
  "language_info": {
   "codemirror_mode": {
    "name": "ipython",
    "version": 3
   },
   "file_extension": ".py",
   "mimetype": "text/x-python",
   "name": "python",
   "nbconvert_exporter": "python",
   "pygments_lexer": "ipython3",
   "version": "3.12.3"
  }
 },
 "nbformat": 4,
 "nbformat_minor": 2
}
